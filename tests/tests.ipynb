{
 "cells": [
  {
   "cell_type": "code",
   "execution_count": 1,
   "metadata": {},
   "outputs": [
    {
     "name": "stdout",
     "output_type": "stream",
     "text": [
      "['Aniline' 'Benzamide' 'Phenethylamine' 'Morpholine']\n"
     ]
    },
    {
     "ename": "AttributeError",
     "evalue": "'Evaluation_data' object has no attribute 'X'",
     "output_type": "error",
     "traceback": [
      "\u001b[0;31m---------------------------------------------------------------------------\u001b[0m",
      "\u001b[0;31mAttributeError\u001b[0m                            Traceback (most recent call last)",
      "\u001b[1;32m/home/schoepfer/Documents/Wörk/13_ROA/dev_1/rules_of_acquisition/tests/tests.ipynb Cell 1\u001b[0m line \u001b[0;36m6\n\u001b[1;32m      <a href='vscode-notebook-cell:/home/schoepfer/Documents/W%C3%B6rk/13_ROA/dev_1/rules_of_acquisition/tests/tests.ipynb#W0sZmlsZQ%3D%3D?line=1'>2</a>\u001b[0m sys\u001b[39m.\u001b[39mpath\u001b[39m.\u001b[39mappend(\u001b[39m\"\u001b[39m\u001b[39m../\u001b[39m\u001b[39m\"\u001b[39m)\n\u001b[1;32m      <a href='vscode-notebook-cell:/home/schoepfer/Documents/W%C3%B6rk/13_ROA/dev_1/rules_of_acquisition/tests/tests.ipynb#W0sZmlsZQ%3D%3D?line=3'>4</a>\u001b[0m \u001b[39mfrom\u001b[39;00m \u001b[39mutils\u001b[39;00m \u001b[39mimport\u001b[39;00m Evaluation_data\n\u001b[0;32m----> <a href='vscode-notebook-cell:/home/schoepfer/Documents/W%C3%B6rk/13_ROA/dev_1/rules_of_acquisition/tests/tests.ipynb#W0sZmlsZQ%3D%3D?line=5'>6</a>\u001b[0m a \u001b[39m=\u001b[39m Evaluation_data(\u001b[39m\"\u001b[39;49m\u001b[39mbaumgartner2019\u001b[39;49m\u001b[39m\"\u001b[39;49m,\u001b[39m10\u001b[39;49m,\u001b[39m\"\u001b[39;49m\u001b[39mupdate_ligand_when_used\u001b[39;49m\u001b[39m\"\u001b[39;49m,\u001b[39m\"\u001b[39;49m\u001b[39mvalues\u001b[39;49m\u001b[39m\"\u001b[39;49m)\n",
      "File \u001b[0;32m~/Documents/Wörk/13_ROA/dev_1/rules_of_acquisition/tests/../utils.py:93\u001b[0m, in \u001b[0;36mEvaluation_data.__init__\u001b[0;34m(self, dataset, init_size, prices, init_strategy)\u001b[0m\n\u001b[1;32m     90\u001b[0m \u001b[39mself\u001b[39m\u001b[39m.\u001b[39mftzr \u001b[39m=\u001b[39m FingerprintGenerator(nBits\u001b[39m=\u001b[39m\u001b[39mself\u001b[39m\u001b[39m.\u001b[39mECFP_size, radius\u001b[39m=\u001b[39m\u001b[39mself\u001b[39m\u001b[39m.\u001b[39mradius)\n\u001b[1;32m     91\u001b[0m \u001b[39mself\u001b[39m\u001b[39m.\u001b[39mget_raw_dataset()\n\u001b[0;32m---> 93\u001b[0m rep_size \u001b[39m=\u001b[39m \u001b[39mself\u001b[39;49m\u001b[39m.\u001b[39;49mX\u001b[39m.\u001b[39mshape[\u001b[39m1\u001b[39m]\n\u001b[1;32m     94\u001b[0m \u001b[39mself\u001b[39m\u001b[39m.\u001b[39mbounds_norm \u001b[39m=\u001b[39m torch\u001b[39m.\u001b[39mtensor([[\u001b[39m0\u001b[39m] \u001b[39m*\u001b[39m rep_size, [\u001b[39m1\u001b[39m] \u001b[39m*\u001b[39m rep_size])\n\u001b[1;32m     95\u001b[0m \u001b[39mself\u001b[39m\u001b[39m.\u001b[39mbounds_norm \u001b[39m=\u001b[39m \u001b[39mself\u001b[39m\u001b[39m.\u001b[39mbounds_norm\u001b[39m.\u001b[39mto(dtype\u001b[39m=\u001b[39mtorch\u001b[39m.\u001b[39mfloat32)\n",
      "\u001b[0;31mAttributeError\u001b[0m: 'Evaluation_data' object has no attribute 'X'"
     ]
    }
   ],
   "source": [
    "import sys\n",
    "sys.path.append(\"../\")\n",
    "\n",
    "from utils import Evaluation_data\n",
    "\n",
    "a = Evaluation_data(\"baumgartner2019\",10,\"update_ligand_when_used\",\"values\")"
   ]
  },
  {
   "cell_type": "code",
   "execution_count": 7,
   "metadata": {},
   "outputs": [
    {
     "data": {
      "text/plain": [
       "array(['CC(C)(C)C(=O)[O-].[Cs+]', 'CC(=O)[O-].[Cs+]',\n",
       "       'CC(C)(C)C(=O)[O-].[Cs+]', ..., 'CC(C)(C)C(=O)[O-].[Cs+]',\n",
       "       'CC(=O)[O-].[K+]', 'CC(=O)[O-].[K+]'], dtype=object)"
      ]
     },
     "execution_count": 7,
     "metadata": {},
     "output_type": "execute_result"
    }
   ],
   "source": []
  },
  {
   "cell_type": "code",
   "execution_count": null,
   "metadata": {},
   "outputs": [],
   "source": []
  }
 ],
 "metadata": {
  "kernelspec": {
   "display_name": "roa",
   "language": "python",
   "name": "python3"
  },
  "language_info": {
   "codemirror_mode": {
    "name": "ipython",
    "version": 3
   },
   "file_extension": ".py",
   "mimetype": "text/x-python",
   "name": "python",
   "nbconvert_exporter": "python",
   "pygments_lexer": "ipython3",
   "version": "3.9.18"
  }
 },
 "nbformat": 4,
 "nbformat_minor": 2
}
